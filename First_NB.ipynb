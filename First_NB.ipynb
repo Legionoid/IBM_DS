{
    "cells": [
        {
            "cell_type": "markdown",
            "metadata": {},
            "source": "# Just testing stuff"
        },
        {
            "cell_type": "code",
            "execution_count": 6,
            "metadata": {},
            "outputs": [
                {
                    "data": {
                        "text/html": "<div>\n<style scoped>\n    .dataframe tbody tr th:only-of-type {\n        vertical-align: middle;\n    }\n\n    .dataframe tbody tr th {\n        vertical-align: top;\n    }\n\n    .dataframe thead th {\n        text-align: right;\n    }\n</style>\n<table border=\"1\" class=\"dataframe\">\n  <thead>\n    <tr style=\"text-align: right;\">\n      <th></th>\n      <th>Email</th>\n      <th>First Name</th>\n      <th>Last Name</th>\n      <th>City</th>\n      <th>Country</th>\n      <th>Current Employer</th>\n      <th>Currently Employed</th>\n      <th>Education</th>\n      <th>Years of Experience</th>\n      <th>Fax</th>\n      <th>Mobile</th>\n      <th>Phone</th>\n      <th>SSN</th>\n      <th>State/Province</th>\n      <th>Street</th>\n      <th>US Citizen</th>\n      <th>Visa Required</th>\n      <th>Zip/Postal Code</th>\n    </tr>\n  </thead>\n  <tbody>\n    <tr>\n      <th>0</th>\n      <td>paul@revere.com</td>\n      <td>Paul</td>\n      <td>Revere</td>\n      <td>Boston</td>\n      <td>USA</td>\n      <td>City of Boston</td>\n      <td>True</td>\n      <td>HS Diploma</td>\n      <td>6</td>\n      <td>510-555-5555</td>\n      <td>510-555-5555</td>\n      <td>510-333-3333</td>\n      <td>123456789</td>\n      <td>MA</td>\n      <td>111 Montclair St</td>\n      <td>False</td>\n      <td>True</td>\n      <td>21111</td>\n    </tr>\n    <tr>\n      <th>1</th>\n      <td>george@schnell.com</td>\n      <td>George</td>\n      <td>Schnell</td>\n      <td>Miami</td>\n      <td>USA</td>\n      <td>Seaworld</td>\n      <td>True</td>\n      <td>Ph.D.</td>\n      <td>3</td>\n      <td>510-555-5555</td>\n      <td>510-555-5555</td>\n      <td>619-555-5555</td>\n      <td>987654321</td>\n      <td>FL</td>\n      <td>1 Herald Plaza</td>\n      <td>False</td>\n      <td>True</td>\n      <td>33132-1693</td>\n    </tr>\n    <tr>\n      <th>2</th>\n      <td>mary@jane.com</td>\n      <td>Mary</td>\n      <td>Jane</td>\n      <td>Boise</td>\n      <td>USA</td>\n      <td>City of Boise</td>\n      <td>True</td>\n      <td>BA/BS</td>\n      <td>3</td>\n      <td>510-555-5555</td>\n      <td>510-555-5555</td>\n      <td>510-333-3333</td>\n      <td>111222333</td>\n      <td>Idaho</td>\n      <td>1530 Main St.</td>\n      <td>False</td>\n      <td>True</td>\n      <td>11111</td>\n    </tr>\n    <tr>\n      <th>3</th>\n      <td>bill@george.com</td>\n      <td>Bill</td>\n      <td>George</td>\n      <td>Princeton</td>\n      <td>USA</td>\n      <td>Princeton University</td>\n      <td>False</td>\n      <td>HS Diploma</td>\n      <td>4</td>\n      <td>510-555-5555</td>\n      <td>510-555-5555</td>\n      <td>510-333-3333</td>\n      <td>444555666</td>\n      <td>NJ</td>\n      <td>235 Montgomery St</td>\n      <td>False</td>\n      <td>True</td>\n      <td>11111</td>\n    </tr>\n    <tr>\n      <th>4</th>\n      <td>amy@johnson.com</td>\n      <td>Amy</td>\n      <td>Johnson</td>\n      <td>Chula Vista</td>\n      <td>USA</td>\n      <td>Seaworld</td>\n      <td>True</td>\n      <td>BA/BS</td>\n      <td>3</td>\n      <td>510-555-5555</td>\n      <td>510-555-5555</td>\n      <td>619-555-5555</td>\n      <td>777888999</td>\n      <td>CA</td>\n      <td>4450 Main St.</td>\n      <td>True</td>\n      <td>False</td>\n      <td>91911</td>\n    </tr>\n  </tbody>\n</table>\n</div>",
                        "text/plain": "                Email First Name Last Name         City Country  \\\n0     paul@revere.com       Paul    Revere       Boston     USA   \n1  george@schnell.com     George   Schnell        Miami     USA   \n2       mary@jane.com       Mary      Jane        Boise     USA   \n3     bill@george.com       Bill    George    Princeton     USA   \n4     amy@johnson.com        Amy   Johnson  Chula Vista     USA   \n\n       Current Employer  Currently Employed   Education  Years of Experience  \\\n0        City of Boston                True  HS Diploma                    6   \n1              Seaworld                True       Ph.D.                    3   \n2         City of Boise                True       BA/BS                    3   \n3  Princeton University               False  HS Diploma                    4   \n4              Seaworld                True       BA/BS                    3   \n\n            Fax        Mobile         Phone        SSN State/Province  \\\n0  510-555-5555  510-555-5555  510-333-3333  123456789             MA   \n1  510-555-5555  510-555-5555  619-555-5555  987654321             FL   \n2  510-555-5555  510-555-5555  510-333-3333  111222333          Idaho   \n3  510-555-5555  510-555-5555  510-333-3333  444555666             NJ   \n4  510-555-5555  510-555-5555  619-555-5555  777888999             CA   \n\n              Street  US Citizen  Visa Required Zip/Postal Code  \n0   111 Montclair St       False           True           21111  \n1     1 Herald Plaza       False           True      33132-1693  \n2      1530 Main St.       False           True           11111  \n3  235 Montgomery St       False           True           11111  \n4      4450 Main St.        True          False           91911  "
                    },
                    "execution_count": 6,
                    "metadata": {},
                    "output_type": "execute_result"
                }
            ],
            "source": "# The code was removed by Watson Studio for sharing."
        },
        {
            "cell_type": "code",
            "execution_count": null,
            "metadata": {},
            "outputs": [],
            "source": ""
        }
    ],
    "metadata": {
        "kernelspec": {
            "display_name": "Python 3.7",
            "language": "python",
            "name": "python3"
        },
        "language_info": {
            "codemirror_mode": {
                "name": "ipython",
                "version": 3
            },
            "file_extension": ".py",
            "mimetype": "text/x-python",
            "name": "python",
            "nbconvert_exporter": "python",
            "pygments_lexer": "ipython3",
            "version": "3.7.9"
        }
    },
    "nbformat": 4,
    "nbformat_minor": 1
}